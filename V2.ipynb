{
 "cells": [
  {
   "cell_type": "code",
   "execution_count": 1,
   "id": "3d9d5cbf",
   "metadata": {},
   "outputs": [],
   "source": [
    "import torch\n",
    "import random\n",
    "from torch.utils.data import Subset, DataLoader, random_split\n",
    "from torchvision import datasets, transforms\n",
    "import timm\n",
    "import torch.nn as nn\n"
   ]
  },
  {
   "cell_type": "code",
   "execution_count": 2,
   "id": "1ef9b710",
   "metadata": {},
   "outputs": [],
   "source": [
    "\n",
    "\n",
    "def get_dino_split(fraction=0.1, image_size=224, train_ratio=0.8):\n",
    "    transform = transforms.Compose([\n",
    "        transforms.Resize((image_size, image_size)),\n",
    "        transforms.ToTensor(),\n",
    "        transforms.Normalize((0.5,), (0.5,))\n",
    "    ])\n",
    "    full_data = datasets.CIFAR10(root=\"./data\", train=True, download=True, transform=transform)\n",
    "    indices = list(range(len(full_data)))\n",
    "    random.shuffle(indices)\n",
    "    subset_len = int(fraction * len(full_data))\n",
    "    subset = Subset(full_data, indices[:subset_len])\n",
    "    train_len = int(train_ratio * subset_len)\n",
    "    test_len = subset_len - train_len\n",
    "    return random_split(subset, [train_len, test_len])\n",
    "\n"
   ]
  },
  {
   "cell_type": "code",
   "execution_count": 3,
   "id": "2dd3348c",
   "metadata": {},
   "outputs": [],
   "source": [
    "\n",
    "\n",
    "def train_dino_classifier(epochs=3):\n",
    "    image_size = 224\n",
    "    train_set, test_set = get_dino_split(fraction=0.1, image_size=image_size)\n",
    "    train_loader = DataLoader(train_set, batch_size=64, shuffle=True, num_workers=4)\n",
    "    test_loader = DataLoader(test_set, batch_size=64, shuffle=False, num_workers=2)\n",
    "\n",
    "    # Load pretrained DINO backbone (no classification head)\n",
    "    vit = timm.create_model(\"vit_base_patch16_224.dino\", pretrained=True, num_classes=0)\n",
    "    for param in vit.parameters():\n",
    "        param.requires_grad = False\n",
    "    vit.eval()\n",
    "\n",
    "    classifier = nn.Sequential(\n",
    "        vit,\n",
    "        nn.Linear(vit.num_features, 10)\n",
    "    ).to(\"cuda\" if torch.cuda.is_available() else \"cpu\")\n",
    "\n",
    "    optimizer = torch.optim.Adam(classifier[-1].parameters(), lr=1e-3)\n",
    "    criterion = nn.CrossEntropyLoss()\n",
    "    device = next(classifier.parameters()).device\n",
    "\n",
    "    # Train only the linear head\n",
    "    classifier.train()\n",
    "    for epoch in range(epochs):\n",
    "        correct, total, total_loss = 0, 0, 0\n",
    "        for imgs, labels in train_loader:\n",
    "            imgs, labels = imgs.to(device), labels.to(device)\n",
    "            logits = classifier(imgs)\n",
    "            loss = criterion(logits, labels)\n",
    "\n",
    "            optimizer.zero_grad()\n",
    "            loss.backward()\n",
    "            optimizer.step()\n",
    "\n",
    "            total += labels.size(0)\n",
    "            correct += (logits.argmax(1) == labels).sum().item()\n",
    "            total_loss += loss.item() * labels.size(0)\n",
    "\n",
    "        acc = 100. * correct / total\n",
    "        print(f\"[DINO Classifier] Epoch {epoch+1}: Loss={total_loss:.2f}, Accuracy={acc:.2f}%\")\n",
    "\n",
    "    # Evaluation\n",
    "    classifier.eval()\n",
    "    correct = 0\n",
    "    with torch.no_grad():\n",
    "        for imgs, labels in test_loader:\n",
    "            imgs, labels = imgs.to(device), labels.to(device)\n",
    "            logits = classifier(imgs)\n",
    "            correct += (logits.argmax(1) == labels).sum().item()\n",
    "\n",
    "    acc = 100. * correct / len(test_set)\n",
    "    print(f\"[DINO Classifier] Final Test Accuracy: {acc:.2f}%\")\n"
   ]
  },
  {
   "cell_type": "code",
   "execution_count": 4,
   "id": "a5237498",
   "metadata": {},
   "outputs": [
    {
     "name": "stdout",
     "output_type": "stream",
     "text": [
      "Files already downloaded and verified\n",
      "[DINO Classifier] Epoch 1: Loss=2740.09, Accuracy=77.88%\n",
      "[DINO Classifier] Epoch 2: Loss=898.55, Accuracy=92.85%\n",
      "[DINO Classifier] Epoch 3: Loss=615.13, Accuracy=95.50%\n",
      "[DINO Classifier] Final Test Accuracy: 91.90%\n"
     ]
    }
   ],
   "source": [
    "\n",
    "if __name__ == \"__main__\":\n",
    "    train_dino_classifier()\n"
   ]
  }
 ],
 "metadata": {
  "kernelspec": {
   "display_name": "DS_beginner",
   "language": "python",
   "name": "python3"
  },
  "language_info": {
   "codemirror_mode": {
    "name": "ipython",
    "version": 3
   },
   "file_extension": ".py",
   "mimetype": "text/x-python",
   "name": "python",
   "nbconvert_exporter": "python",
   "pygments_lexer": "ipython3",
   "version": "3.12.9"
  }
 },
 "nbformat": 4,
 "nbformat_minor": 5
}
