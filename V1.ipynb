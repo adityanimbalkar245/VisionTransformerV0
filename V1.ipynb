{
 "cells": [
  {
   "cell_type": "code",
   "execution_count": 5,
   "id": "56aa8ff5",
   "metadata": {},
   "outputs": [],
   "source": [
    "import torch\n",
    "import random\n",
    "import numpy as np\n",
    "from torch.utils.data import Subset, DataLoader, random_split\n",
    "from torchvision import datasets, transforms\n",
    "import timm\n",
    "from tqdm import tqdm\n",
    "\n"
   ]
  },
  {
   "cell_type": "code",
   "execution_count": 6,
   "id": "70b2d9cf",
   "metadata": {},
   "outputs": [],
   "source": [
    "\n",
    "\n",
    "def get_cifar10_split(fraction=0.1, image_size=224, train_ratio=0.8):\n",
    "    transform = transforms.Compose([\n",
    "        transforms.Resize((image_size, image_size,), interpolation=transforms.InterpolationMode.BICUBIC),\n",
    "        transforms.ToTensor(),\n",
    "        transforms.Normalize(mean=[0.5]*3, std=[0.5]*3)\n",
    "    ])\n",
    "    full_data = datasets.CIFAR10(root=\"./data\", train=True, download=True, transform=transform)\n",
    "    indices = list(range(len(full_data)))\n",
    "    random.shuffle(indices)\n",
    "    subset_len = int(fraction * len(full_data))\n",
    "    subset = Subset(full_data, indices[:subset_len])\n",
    "    train_len = int(train_ratio * subset_len)\n",
    "    test_len = subset_len - train_len\n",
    "    return random_split(subset, [train_len, test_len])\n",
    "\n"
   ]
  },
  {
   "cell_type": "code",
   "execution_count": 7,
   "id": "1871eb4f",
   "metadata": {},
   "outputs": [],
   "source": [
    "\n",
    "\n",
    "def train_vit_on_subset(patch_size=16, image_size=None, epochs=6):\n",
    "    if image_size is None:\n",
    "       # image_size = patch_size * 7  # 112 for patch 16, 224 for patch 32\n",
    "       image_size = 224 if patch_size == 16 else 384\n",
    "\n",
    "    torch.manual_seed(42)\n",
    "    np.random.seed(42)\n",
    "    random.seed(42)\n",
    "\n",
    "    train_set, test_set = get_cifar10_split(fraction=0.1, image_size=image_size)\n",
    "\n",
    "    train_loader = DataLoader(train_set, batch_size=16, shuffle=True, num_workers=8, pin_memory=True)#, prefetch_factor=0)\n",
    "    test_loader = DataLoader(test_set, batch_size=32, shuffle=False, num_workers=8, pin_memory=True)#, prefetch_factor=0)\n",
    "\n",
    "    model = timm.create_model(f'vit_base_patch{patch_size}_{image_size}', pretrained=True, num_classes=10)\n",
    "    model = model.to(\"cuda\" if torch.cuda.is_available() else \"cpu\")\n",
    "\n",
    "    optimizer = torch.optim.AdamW(model.parameters(), lr=1e-4)\n",
    "    criterion = torch.nn.CrossEntropyLoss()\n",
    "    device = next(model.parameters()).device\n",
    "   # for param in model.parameters():\n",
    "   #     print(param.requires_grad)  # should all be True\n",
    "\n",
    "    \n",
    "    for epoch in range(epochs):\n",
    "        print(f\"[Patch {patch_size}] Epoch {epoch+1}\") \n",
    "\n",
    "\n",
    "        model.train()\n",
    "        total_loss, correct = 0, 0\n",
    "        for imgs, labels in tqdm(train_loader, desc=f\"Epoch {epoch+1} - Training\"):\n",
    "            imgs, labels = imgs.to(device), labels.to(device)\n",
    "            outputs = model(imgs)\n",
    "            loss = criterion(outputs, labels)\n",
    "\n",
    "            optimizer.zero_grad()\n",
    "            loss.backward()\n",
    "            optimizer.step()\n",
    "\n",
    "            total_loss += loss.item() * imgs.size(0)\n",
    "            correct += (outputs.argmax(1) == labels).sum().item()\n",
    "\n",
    "        acc = 100. * correct / len(train_set)\n",
    "        print(f\"[Patch {patch_size}] Epoch {epoch+1}: Train Loss={total_loss:.2f}, Avg Loss: {total_loss / len(train_set):.4f}, Accuracy={acc:.2f}%\")\n",
    "\n",
    "    torch.save(model.state_dict(), f\"vit_patch{patch_size}_VIT01.pth\")\n",
    "\n",
    "    # Evaluation\n",
    "    print(f\"[Patch {patch_size}] Epoch {epoch+1} - Evaluating...\")\n",
    "    model.eval()\n",
    "    correct = 0\n",
    "    with torch.no_grad():\n",
    "        for imgs, labels in tqdm(test_loader, desc=f\"Epoch {epoch+1} - Evaluating\"):\n",
    "            imgs, labels = imgs.to(device), labels.to(device)\n",
    "            outputs = model(imgs)\n",
    "            correct += (outputs.argmax(1) == labels).sum().item()\n",
    "\n",
    "    test_acc = 100. * correct / len(test_set)\n",
    "    print(f\"[Patch {patch_size}] Final Test Accuracy: {test_acc:.2f}%\")\n",
    "\n"
   ]
  },
  {
   "cell_type": "code",
   "execution_count": 8,
   "id": "0310796e",
   "metadata": {},
   "outputs": [
    {
     "name": "stdout",
     "output_type": "stream",
     "text": [
      "🔍 Training with Patch Size 16\n",
      "Files already downloaded and verified\n",
      "[Patch 16] Epoch 1\n"
     ]
    },
    {
     "name": "stderr",
     "output_type": "stream",
     "text": [
      "Epoch 1 - Training: 100%|██████████| 250/250 [02:53<00:00,  1.44it/s]\n"
     ]
    },
    {
     "name": "stdout",
     "output_type": "stream",
     "text": [
      "[Patch 16] Epoch 1: Train Loss=1939.43, Avg Loss: 0.4849, Accuracy=84.10%\n",
      "[Patch 16] Epoch 2\n"
     ]
    },
    {
     "name": "stderr",
     "output_type": "stream",
     "text": [
      "Epoch 2 - Training: 100%|██████████| 250/250 [02:54<00:00,  1.44it/s]\n"
     ]
    },
    {
     "name": "stdout",
     "output_type": "stream",
     "text": [
      "[Patch 16] Epoch 2: Train Loss=963.32, Avg Loss: 0.2408, Accuracy=92.25%\n",
      "[Patch 16] Epoch 3\n"
     ]
    },
    {
     "name": "stderr",
     "output_type": "stream",
     "text": [
      "Epoch 3 - Training: 100%|██████████| 250/250 [02:53<00:00,  1.44it/s]\n"
     ]
    },
    {
     "name": "stdout",
     "output_type": "stream",
     "text": [
      "[Patch 16] Epoch 3: Train Loss=702.00, Avg Loss: 0.1755, Accuracy=94.45%\n",
      "[Patch 16] Epoch 4\n"
     ]
    },
    {
     "name": "stderr",
     "output_type": "stream",
     "text": [
      "Epoch 4 - Training: 100%|██████████| 250/250 [02:55<00:00,  1.43it/s]\n"
     ]
    },
    {
     "name": "stdout",
     "output_type": "stream",
     "text": [
      "[Patch 16] Epoch 4: Train Loss=527.64, Avg Loss: 0.1319, Accuracy=95.65%\n",
      "[Patch 16] Epoch 5\n"
     ]
    },
    {
     "name": "stderr",
     "output_type": "stream",
     "text": [
      "Epoch 5 - Training: 100%|██████████| 250/250 [02:53<00:00,  1.44it/s]\n"
     ]
    },
    {
     "name": "stdout",
     "output_type": "stream",
     "text": [
      "[Patch 16] Epoch 5: Train Loss=595.18, Avg Loss: 0.1488, Accuracy=95.42%\n",
      "[Patch 16] Epoch 6\n"
     ]
    },
    {
     "name": "stderr",
     "output_type": "stream",
     "text": [
      "Epoch 6 - Training: 100%|██████████| 250/250 [02:54<00:00,  1.44it/s]\n"
     ]
    },
    {
     "name": "stdout",
     "output_type": "stream",
     "text": [
      "[Patch 16] Epoch 6: Train Loss=435.82, Avg Loss: 0.1090, Accuracy=96.50%\n",
      "[Patch 16] Epoch 6 - Evaluating...\n"
     ]
    },
    {
     "name": "stderr",
     "output_type": "stream",
     "text": [
      "Epoch 6 - Evaluating: 100%|██████████| 32/32 [00:37<00:00,  1.17s/it]"
     ]
    },
    {
     "name": "stdout",
     "output_type": "stream",
     "text": [
      "[Patch 16] Final Test Accuracy: 84.00%\n"
     ]
    },
    {
     "name": "stderr",
     "output_type": "stream",
     "text": [
      "\n"
     ]
    }
   ],
   "source": [
    "\n",
    "\n",
    "if __name__ == \"__main__\":\n",
    "    print(\"🔍 Training with Patch Size 16\")\n",
    "    train_vit_on_subset(patch_size=16)\n"
   ]
  },
  {
   "cell_type": "code",
   "execution_count": 10,
   "id": "cf84d784",
   "metadata": {},
   "outputs": [
    {
     "name": "stdout",
     "output_type": "stream",
     "text": [
      "\n",
      "🔍 Training with Patch Size 32\n",
      "Files already downloaded and verified\n"
     ]
    },
    {
     "data": {
      "application/vnd.jupyter.widget-view+json": {
       "model_id": "b8e06fb944834578a7496c37e6f07184",
       "version_major": 2,
       "version_minor": 0
      },
      "text/plain": [
       "model.safetensors:   3%|2         | 10.5M/364M [00:00<?, ?B/s]"
      ]
     },
     "metadata": {},
     "output_type": "display_data"
    },
    {
     "name": "stderr",
     "output_type": "stream",
     "text": [
      "c:\\Users\\adity\\anaconda3\\envs\\DS_beginner\\Lib\\site-packages\\huggingface_hub\\file_download.py:143: UserWarning: `huggingface_hub` cache-system uses symlinks by default to efficiently store duplicated files but your machine does not support them in C:\\Users\\adity\\.cache\\huggingface\\hub\\models--timm--vit_base_patch32_384.augreg_in21k_ft_in1k. Caching files will still work but in a degraded version that might require more space on your disk. This warning can be disabled by setting the `HF_HUB_DISABLE_SYMLINKS_WARNING` environment variable. For more details, see https://huggingface.co/docs/huggingface_hub/how-to-cache#limitations.\n",
      "To support symlinks on Windows, you either need to activate Developer Mode or to run Python as an administrator. In order to activate developer mode, see this article: https://docs.microsoft.com/en-us/windows/apps/get-started/enable-your-device-for-development\n",
      "  warnings.warn(message)\n"
     ]
    },
    {
     "name": "stdout",
     "output_type": "stream",
     "text": [
      "[Patch 32] Epoch 1\n"
     ]
    },
    {
     "name": "stderr",
     "output_type": "stream",
     "text": [
      "Epoch 1 - Training: 100%|██████████| 250/250 [02:18<00:00,  1.81it/s]\n"
     ]
    },
    {
     "name": "stdout",
     "output_type": "stream",
     "text": [
      "[Patch 32] Epoch 1: Train Loss=2159.95, Avg Loss: 0.5400, Accuracy=84.12%\n",
      "[Patch 32] Epoch 2\n"
     ]
    },
    {
     "name": "stderr",
     "output_type": "stream",
     "text": [
      "Epoch 2 - Training: 100%|██████████| 250/250 [02:14<00:00,  1.86it/s]\n"
     ]
    },
    {
     "name": "stdout",
     "output_type": "stream",
     "text": [
      "[Patch 32] Epoch 2: Train Loss=1008.92, Avg Loss: 0.2522, Accuracy=91.97%\n",
      "[Patch 32] Epoch 3\n"
     ]
    },
    {
     "name": "stderr",
     "output_type": "stream",
     "text": [
      "Epoch 3 - Training: 100%|██████████| 250/250 [02:14<00:00,  1.85it/s]\n"
     ]
    },
    {
     "name": "stdout",
     "output_type": "stream",
     "text": [
      "[Patch 32] Epoch 3: Train Loss=625.02, Avg Loss: 0.1563, Accuracy=94.85%\n",
      "[Patch 32] Epoch 4\n"
     ]
    },
    {
     "name": "stderr",
     "output_type": "stream",
     "text": [
      "Epoch 4 - Training: 100%|██████████| 250/250 [02:14<00:00,  1.86it/s]\n"
     ]
    },
    {
     "name": "stdout",
     "output_type": "stream",
     "text": [
      "[Patch 32] Epoch 4: Train Loss=703.85, Avg Loss: 0.1760, Accuracy=94.08%\n",
      "[Patch 32] Epoch 5\n"
     ]
    },
    {
     "name": "stderr",
     "output_type": "stream",
     "text": [
      "Epoch 5 - Training: 100%|██████████| 250/250 [02:14<00:00,  1.86it/s]\n"
     ]
    },
    {
     "name": "stdout",
     "output_type": "stream",
     "text": [
      "[Patch 32] Epoch 5: Train Loss=648.64, Avg Loss: 0.1622, Accuracy=94.83%\n",
      "[Patch 32] Epoch 6\n"
     ]
    },
    {
     "name": "stderr",
     "output_type": "stream",
     "text": [
      "Epoch 6 - Training: 100%|██████████| 250/250 [02:15<00:00,  1.85it/s]\n"
     ]
    },
    {
     "name": "stdout",
     "output_type": "stream",
     "text": [
      "[Patch 32] Epoch 6: Train Loss=544.27, Avg Loss: 0.1361, Accuracy=95.55%\n",
      "[Patch 32] Epoch 6 - Evaluating...\n"
     ]
    },
    {
     "name": "stderr",
     "output_type": "stream",
     "text": [
      "Epoch 6 - Evaluating: 100%|██████████| 32/32 [00:35<00:00,  1.11s/it]"
     ]
    },
    {
     "name": "stdout",
     "output_type": "stream",
     "text": [
      "[Patch 32] Final Test Accuracy: 81.50%\n"
     ]
    },
    {
     "name": "stderr",
     "output_type": "stream",
     "text": [
      "\n"
     ]
    }
   ],
   "source": [
    "\n",
    "if __name__ == \"__main__\":    \n",
    "    print(\"\\n🔍 Training with Patch Size 32\")\n",
    "    train_vit_on_subset(patch_size=32)\n"
   ]
  }
 ],
 "metadata": {
  "kernelspec": {
   "display_name": "DS_beginner",
   "language": "python",
   "name": "python3"
  },
  "language_info": {
   "codemirror_mode": {
    "name": "ipython",
    "version": 3
   },
   "file_extension": ".py",
   "mimetype": "text/x-python",
   "name": "python",
   "nbconvert_exporter": "python",
   "pygments_lexer": "ipython3",
   "version": "3.12.9"
  }
 },
 "nbformat": 4,
 "nbformat_minor": 5
}
